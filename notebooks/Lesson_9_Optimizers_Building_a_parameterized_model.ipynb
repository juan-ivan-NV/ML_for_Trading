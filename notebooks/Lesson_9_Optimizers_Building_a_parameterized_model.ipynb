{
  "nbformat": 4,
  "nbformat_minor": 0,
  "metadata": {
    "colab": {
      "name": "Lesson_9_Optimizers_Building_a_parameterized_model.ipynb",
      "provenance": []
    },
    "kernelspec": {
      "name": "python3",
      "display_name": "Python 3"
    },
    "language_info": {
      "name": "python"
    }
  },
  "cells": [
    {
      "cell_type": "code",
      "execution_count": 2,
      "metadata": {
        "colab": {
          "base_uri": "https://localhost:8080/",
          "height": 576
        },
        "id": "htT-0PVdFViG",
        "outputId": "92690f11-1b80-4b20-be9e-97bef2270c49"
      },
      "outputs": [
        {
          "output_type": "stream",
          "name": "stdout",
          "text": [
            "X = [2.], Y = [0.75]\n",
            "X = [2.], Y = [0.75]\n",
            "X = [2.00000001], Y = [0.75000001]\n",
            "X = [0.99999999], Y = [0.75000001]\n",
            "X = [1.5], Y = [0.5]\n",
            "X = [1.5], Y = [0.5]\n",
            "X = [1.50000001], Y = [0.5]\n",
            "Optimization terminated successfully.    (Exit mode 0)\n",
            "            Current function value: 0.5\n",
            "            Iterations: 2\n",
            "            Function evaluations: 7\n",
            "            Gradient evaluations: 2\n",
            "Minima found at:\n",
            "X = [1.5], Y = 0.5\n",
            "X = [0.5 0.6 0.7 0.8 0.9 1.  1.1 1.2 1.3 1.4 1.5 1.6 1.7 1.8 1.9 2.  2.1 2.2\n",
            " 2.3 2.4 2.5], Y = [1.5  1.31 1.14 0.99 0.86 0.75 0.66 0.59 0.54 0.51 0.5  0.51 0.54 0.59\n",
            " 0.66 0.75 0.86 0.99 1.14 1.31 1.5 ]\n"
          ]
        },
        {
          "output_type": "display_data",
          "data": {
            "text/plain": [
              "<Figure size 432x288 with 1 Axes>"
            ],
            "image/png": "[encoded data removed]"
          },
          "metadata": {
            "needs_background": "light"
          }
        }
      ],
      "source": [
        "\"\"\"Minimize an objetive function, using SciPy\"\"\"\n",
        "\n",
        "import pandas as pd\n",
        "import matplotlib.pyplot as plt\n",
        "import numpy as np\n",
        "import scipy.optimize as spo\n",
        "\n",
        "def f(X):\n",
        "  \"\"\"Given a scalar X, return some value (a real number).\"\"\"\n",
        "  Y = (X - 1.5)**2 + 0.5\n",
        "  print(\"X = {}, Y = {}\".format(X, Y)) # for tracing\n",
        "  return Y\n",
        "\n",
        "def test_run():\n",
        "  Xguess = 2.0\n",
        "  min_result = spo.minimize(f, Xguess, method='SLSQP', options={'disp': True})\n",
        "  print(\"Minima found at:\")\n",
        "  print(\"X = {}, Y = {}\".format(min_result.x, min_result.fun))\n",
        "\n",
        "  # Plot function values, mark minima\n",
        "  Xplot = np.linspace(0.5, 2.5, 21)\n",
        "  Yplot = f(Xplot)\n",
        "  plt.plot(Xplot, Yplot)\n",
        "  plt.plot(min_result.x, min_result.fun, 'ro')\n",
        "  plt.title(\"Minima of an objetive function\")\n",
        "  plt.show()\n",
        "\n",
        "if __name__ == \"__main__\":\n",
        "  test_run()"
      ]
    },
    {
      "cell_type": "markdown",
      "source": [
        "## 9.- Fit a line to given data points"
      ],
      "metadata": {
        "id": "aVkjjzikSH6f"
      }
    },
    {
      "cell_type": "code",
      "source": [
        "\"\"\"Fit a line to a given set of data points using optimization.\"\"\"\n",
        "\n",
        "import pandas as pd\n",
        "import matplotlib.pyplot as plt\n",
        "import numpy as np\n",
        "import scipy.optimize as spo\n",
        "\n",
        "def error(line, data):\n",
        "  \"\"\"Compute error between given line model and observed data.\n",
        "  \n",
        "  Parameters\n",
        "  ----------\n",
        "  line: tuple/list/array (C0, C1) where C0 is slope and C1 is Y-intercept\n",
        "  data: 2D array where each row is a point (x, y)\n",
        "  \n",
        "  Returns error as a single real value.\n",
        "  \"\"\"\n",
        "\n",
        "  # Metric: Sum of squared Y-axis differences\n",
        "  err = np.sum((data[:, 1] - (line[0] * data[:, 0] + line[1])) ** 2)\n",
        "  return err"
      ],
      "metadata": {
        "id": "9d_jaj9vSM7W"
      },
      "execution_count": null,
      "outputs": []
    }
  ]
}