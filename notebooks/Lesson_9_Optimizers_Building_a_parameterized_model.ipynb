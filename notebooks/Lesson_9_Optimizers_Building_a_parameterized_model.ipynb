{
  "nbformat": 4,
  "nbformat_minor": 0,
  "metadata": {
    "colab": {
      "name": "Lesson_9_Optimizers_Building_a_parameterized_model.ipynb",
      "provenance": []
    },
    "kernelspec": {
      "name": "python3",
      "display_name": "Python 3"
    },
    "language_info": {
      "name": "python"
    }
  },
  "cells": [
    {
      "cell_type": "code",
      "execution_count": 2,
      "metadata": {
        "colab": {
          "base_uri": "https://localhost:8080/",
          "height": 576
        },
        "id": "htT-0PVdFViG",
        "outputId": "92690f11-1b80-4b20-be9e-97bef2270c49"
      },
      "outputs": [
        {
          "output_type": "stream",
          "name": "stdout",
          "text": [
            "X = [2.], Y = [0.75]\n",
            "X = [2.], Y = [0.75]\n",
            "X = [2.00000001], Y = [0.75000001]\n",
            "X = [0.99999999], Y = [0.75000001]\n",
            "X = [1.5], Y = [0.5]\n",
            "X = [1.5], Y = [0.5]\n",
            "X = [1.50000001], Y = [0.5]\n",
            "Optimization terminated successfully.    (Exit mode 0)\n",
            "            Current function value: 0.5\n",
            "            Iterations: 2\n",
            "            Function evaluations: 7\n",
            "            Gradient evaluations: 2\n",
            "Minima found at:\n",
            "X = [1.5], Y = 0.5\n",
            "X = [0.5 0.6 0.7 0.8 0.9 1.  1.1 1.2 1.3 1.4 1.5 1.6 1.7 1.8 1.9 2.  2.1 2.2\n",
            " 2.3 2.4 2.5], Y = [1.5  1.31 1.14 0.99 0.86 0.75 0.66 0.59 0.54 0.51 0.5  0.51 0.54 0.59\n",
            " 0.66 0.75 0.86 0.99 1.14 1.31 1.5 ]\n"
          ]
        },
        {
          "output_type": "display_data",
          "data": {
            "text/plain": [
              "<Figure size 432x288 with 1 Axes>"
            ],
            "image/png": "[encoded data removed]"
          },
          "metadata": {
            "needs_background": "light"
          }
        }
      ],
      "source": [
        "\"\"\"Minimize an objetive function, using SciPy\"\"\"\n",
        "\n",
        "import pandas as pd\n",
        "import matplotlib.pyplot as plt\n",
        "import numpy as np\n",
        "import scipy.optimize as spo\n",
        "\n",
        "def f(X):\n",
        "  \"\"\"Given a scalar X, return some value (a real number).\"\"\"\n",
        "  Y = (X - 1.5)**2 + 0.5\n",
        "  print(\"X = {}, Y = {}\".format(X, Y)) # for tracing\n",
        "  return Y\n",
        "\n",
        "def test_run():\n",
        "  Xguess = 2.0\n",
        "  min_result = spo.minimize(f, Xguess, method='SLSQP', options={'disp': True})\n",
        "  print(\"Minima found at:\")\n",
        "  print(\"X = {}, Y = {}\".format(min_result.x, min_result.fun))\n",
        "\n",
        "  # Plot function values, mark minima\n",
        "  Xplot = np.linspace(0.5, 2.5, 21)\n",
        "  Yplot = f(Xplot)\n",
        "  plt.plot(Xplot, Yplot)\n",
        "  plt.plot(min_result.x, min_result.fun, 'ro')\n",
        "  plt.title(\"Minima of an objetive function\")\n",
        "  plt.show()\n",
        "\n",
        "if __name__ == \"__main__\":\n",
        "  test_run()"
      ]
    },
    {
      "cell_type": "markdown",
      "source": [
        "## 9.- Fit a line to given data points"
      ],
      "metadata": {
        "id": "aVkjjzikSH6f"
      }
    },
    {
      "cell_type": "code",
      "source": [
        "\"\"\"Fit a line to a given set of data points using optimization.\"\"\"\n",
        "\n",
        "import pandas as pd\n",
        "import matplotlib.pyplot as plt\n",
        "import numpy as np\n",
        "import scipy.optimize as spo\n",
        "\n",
        "def error(line, data):\n",
        "  \"\"\"Compute error between given line model and observed data.\n",
        "  \n",
        "  Parameters\n",
        "  ----------\n",
        "  line: tuple/list/array (C0, C1) where C0 is slope and C1 is Y-intercept\n",
        "  data: 2D array where each row is a point (x, y)\n",
        "  \n",
        "  Returns error as a single real value.\n",
        "  \"\"\"\n",
        "\n",
        "  # Metric: Sum of squared Y-axis differences\n",
        "  err = np.sum((data[:, 1] - (line[0] * data[:, 0] + line[1])) ** 2)\n",
        "  return err"
      ],
      "metadata": {
        "id": "9d_jaj9vSM7W"
      },
      "execution_count": null,
      "outputs": []
    },
    {
      "cell_type": "markdown",
      "source": [
        "## 10.- Optimizers for polinomials"
      ],
      "metadata": {
        "id": "skmSqPLQkJRE"
      }
    },
    {
      "cell_type": "code",
      "source": [
        "import pandas as pd\n",
        "import matplotlib.pyplot as plt\n",
        "import numpy as np\n",
        "import scipy.optimize as spo\n",
        "\n",
        "def error(line, data):\n",
        "    \"\"\"Compute error between given line model and observed data.\n",
        "    Parameters\n",
        "    ----------\n",
        "    line: tuple/list/array (C0, C1) where C0 is slope and C1 is Y-intercept\n",
        "    data: 2D array where each row is a point (x, y)\n",
        "\n",
        "    Returns error as a single real value.\n",
        "    \"\"\"\n",
        "    # Metric: Sum of squared Y-axis differences\n",
        "    c0 = line[0]\n",
        "    c1 = line[1]\n",
        "    x = data[:, 0]\n",
        "    y = data[:, 1]\n",
        "    err = np.sum((y - (c0 * x + c1)) ** 2)\n",
        "    return err\n",
        "\n",
        "\n",
        "def fit_line(data, error_func):\n",
        "    \"\"\"Fit a line to given data, using a supplied error function.\n",
        "\n",
        "    Parameters\n",
        "    ----------\n",
        "    data: 2D array where each row is a point (X0, Y)\n",
        "    error_func: funciton that computes the error between a line and observed data\n",
        "\n",
        "    Returns line that minimizes the error function.\n",
        "    \"\"\"\n",
        "    # Generate initial guess for line model\n",
        "    line = np.float32([0, np.mean(data[:, 1])]) # slope = 0, intercept = mean(y values)\n",
        "\n",
        "    # Plot initial guess (optional)\n",
        "    x_ends = np.float32([-5, 5])\n",
        "    plt.plot(x_ends, line[0] * x_ends + line[1], 'm--', linewidth=2.0, label='Initial guess')\n",
        "\n",
        "    # Call optimizer to minimize error function\n",
        "    # args: pass the data as argument to error_func\n",
        "    result = spo.minimize(error_func, line, args=(data,), method='SLSQP', options={'disp':True})\n",
        "    return result.x\n",
        "\n",
        "def error_poly(C, data):\n",
        "    \"\"\"Compute error between given polynomial and observed data.\n",
        "\n",
        "    Parameters\n",
        "    ----------\n",
        "    C(Coefficients for the polynomial): numpy.poly1d object or equivalent array representing polynomial coefficients\n",
        "    data: 2D array where each row is a point (x, y)\n",
        "\n",
        "    Returns error as a single real value.\n",
        "    \"\"\"\n",
        "    # Metric: Sum of squared Y-axis differences\n",
        "    # np.polyval(): Evaluate a polynomial at specific values.\n",
        "    # for example, np.polyval([3,0,1], 5) ==> 3 * 5**2 + 0 * 5**1 + 1 ==> 76\n",
        "    x = data[:, 0]\n",
        "    y = data[:, 1]\n",
        "    err = np.sum((y - np.polyval(C, x)) ** 2)\n",
        "    return err\n",
        "\n",
        "def fit_poly(data, error_func, degree=4):\n",
        "    \"\"\"Fit a polynomial to given data, using supplied error function.\n",
        "    \n",
        "    Parameters\n",
        "    ----------\n",
        "    data: 2D array where each row is a point (x, y)\n",
        "    error_func: function that computes the error between a polynomial and observed difference\n",
        "\n",
        "    Returns polynomial that minimizes the error funciton.\n",
        "    \"\"\"\n",
        "    # Generate initial guess for polynomial model (all coeffs = 1)\n",
        "    # for example, np.poly1d([1, 2, 3]) ==> 1x**2 + 2x + 3\n",
        "    Cguess = np.poly1d(np.ones(degree + 1, dtype=np.float32))\n",
        "\n",
        "    # Plot initial guess (optional)\n",
        "    x = np.linspace(-5, 5, 21)\n",
        "    plt.plot(x, np.polyval(Cguess, x), 'm--', linewidth=2.0, label='Initial guess')\n",
        "\n",
        "    # Call optimizer to minimize error function\n",
        "    # Sequential Least SQuares Programming (SLSQP).\n",
        "    result = spo.minimize(error_func, Cguess, args=(data,), method='SLSQP', options={'disp':True})\n",
        "    # for example, np.poly1d([1, 2, 3]) ==> 1x**2 + 2x + 3\n",
        "    return np.poly1d(result.x) # convert optimal result into a poly1d object and return the result\n"
      ],
      "metadata": {
        "id": "qilKCS5ckRlw"
      },
      "execution_count": 1,
      "outputs": []
    },
    {
      "cell_type": "code",
      "source": [
        "# Define original ine\n",
        "l_orig = np.float32([4, 2])\n",
        "c0, c1 = l_orig[0], l_orig[1]\n",
        "print('Original line: C0 = {}, C1 = {}'.format(c0, c1))\n",
        "# Xorig = [0., 0.5, 1., ..., 10.]\n",
        "Xorig = np.linspace(0, 10, 21)\n",
        "# Yorig = [2., 4., 6., ..., 42.]\n",
        "Yorig = c0 * Xorig + c1\n",
        "plt.plot(Xorig, Yorig, 'b--', linewidth=2.0, label='Original line')\n",
        "\n",
        "# Generate noisy data points\n",
        "noise_sigma = 3.0\n",
        "# Draw random samples from a normal (Gaussian) distribution.\n",
        "noise = np.random.normal(0, noise_sigma, Yorig.shape)\n",
        "data = np.asarray([Xorig, Yorig + noise]).T\n",
        "x, y = data[:, 0], data[:, 1]\n",
        "plt.plot(x, y, 'go', label='Data points')\n",
        "\n",
        "# Try to fit a line to this data\n",
        "l_fit = fit_line(data, error)\n",
        "fit_c0, fit_c1 = l_fit[0], l_fit[1]\n",
        "print('Fitted line: C0 = {}, C1 = {}'.format(fit_c0, fit_c1))\n",
        "plt.plot(x, fit_c0 * x + fit_c1, 'r--', linewidth=2.0, label='Fitted line')\n",
        "\n",
        "# Add a legend and show plot\n",
        "plt.legend(loc='upper left')\n",
        "plt.show()"
      ],
      "metadata": {
        "colab": {
          "base_uri": "https://localhost:8080/",
          "height": 387
        },
        "id": "dhEOeW9Qda5E",
        "outputId": "02a94f8f-da36-42bd-ebee-215a22273237"
      },
      "execution_count": 2,
      "outputs": [
        {
          "output_type": "stream",
          "name": "stdout",
          "text": [
            "Original line: C0 = 4.0, C1 = 2.0\n",
            "Optimization terminated successfully.    (Exit mode 0)\n",
            "            Current function value: 135.56264479923328\n",
            "            Iterations: 5\n",
            "            Function evaluations: 24\n",
            "            Gradient evaluations: 5\n",
            "Fitted line: C0 = 3.7989981349270323, C1 = 2.3088891007339885\n"
          ]
        },
        {
          "output_type": "display_data",
          "data": {
            "text/plain": [
              "<Figure size 432x288 with 1 Axes>"
            ],
            "image/png": "[encoded data removed]"
          },
          "metadata": {
            "needs_background": "light"
          }
        }
      ]
    },
    {
      "cell_type": "code",
      "source": [
        "# Fitting Higher Order Polynomials\n",
        "Cguess = np.poly1d([1.5, -10, -5, 60, 50])\n",
        "print(Cguess)\n",
        "Xorig = np.linspace(-5, 5, 21)\n",
        "Yorig = np.polyval(Cguess, Xorig)\n",
        "plt.plot(Xorig, Yorig, 'b', linewidth=2.0, label='Original line')\n",
        "\n",
        "# Generate noisy data points\n",
        "noise_sigma = 3.0\n",
        "noise = np.random.normal(0, noise_sigma, Yorig.shape)\n",
        "data = np.asarray([Xorig, Yorig + noise]).T\n",
        "x, y = data[:, 0], data[:, 1]\n",
        "plt.plot(x, y, 'go', label='Data points')\n",
        "\n",
        "# Try to fit a line to this data\n",
        "fit_coef = fit_poly(data, error_poly)\n",
        "print(fit_coef)\n",
        "plt.plot(x, np.polyval(fit_coef, x), 'r--', linewidth=2.0, label='Fitted line')\n",
        "\n",
        "# Add a legend and show plot\n",
        "plt.legend(loc='upper right')\n",
        "plt.show()"
      ],
      "metadata": {
        "id": "3YYqs61xdscr",
        "outputId": "ac47c6f7-f6bc-4b5a-ceec-974ebc7a76d3",
        "colab": {
          "base_uri": "https://localhost:8080/",
          "height": 421
        }
      },
      "execution_count": 3,
      "outputs": [
        {
          "output_type": "stream",
          "name": "stdout",
          "text": [
            "     4      3     2\n",
            "1.5 x - 10 x - 5 x + 60 x + 50\n",
            "Optimization terminated successfully.    (Exit mode 0)\n",
            "            Current function value: 253.75500821456015\n",
            "            Iterations: 8\n",
            "            Function evaluations: 74\n",
            "            Gradient evaluations: 8\n",
            "     4         3         2\n",
            "1.5 x - 10.01 x - 4.992 x + 60.14 x + 49.47\n"
          ]
        },
        {
          "output_type": "display_data",
          "data": {
            "text/plain": [
              "<Figure size 432x288 with 1 Axes>"
            ],
            "image/png": "[encoded data removed]"
          },
          "metadata": {
            "needs_background": "light"
          }
        }
      ]
    }
  ]
}