{
  "nbformat": 4,
  "nbformat_minor": 0,
  "metadata": {
    "colab": {
      "name": "Lesson_4_the _power_of_numpy.ipynb",
      "provenance": []
    },
    "kernelspec": {
      "name": "python3",
      "display_name": "Python 3"
    },
    "language_info": {
      "name": "python"
    }
  },
  "cells": [
    {
      "cell_type": "markdown",
      "source": [
        "## 6.- Creating NumPy arrays"
      ],
      "metadata": {
        "id": "1_vaoppXVE9c"
      }
    },
    {
      "cell_type": "code",
      "execution_count": 4,
      "metadata": {
        "colab": {
          "base_uri": "https://localhost:8080/"
        },
        "id": "q4TyK0kUVDyt",
        "outputId": "b6b6f10e-1bab-44c4-e416-a6801ae2be34"
      },
      "outputs": [
        {
          "output_type": "stream",
          "name": "stdout",
          "text": [
            "[[2 3 4]\n",
            " [5 6 7]]\n"
          ]
        }
      ],
      "source": [
        "import numpy as np\n",
        "\n",
        "def test_run():\n",
        "  # list to 1D array\n",
        "  print(np.array([(2,3,4), (5,6,7)]))\n",
        "\n",
        "if __name__==\"__main__\":\n",
        "  test_run()"
      ]
    },
    {
      "cell_type": "markdown",
      "source": [
        "## 7.- Arrays with initial values"
      ],
      "metadata": {
        "id": "9_gwkGuTZCRG"
      }
    },
    {
      "cell_type": "code",
      "source": [
        "import numpy as np\n",
        "\n",
        "def test_run():\n",
        "  # Empty array\n",
        "  #print(np.empty(5))\n",
        "  #print(np.empty((5,4,3)))\n",
        "  print(np.ones((5,4)))\n",
        "\n",
        "if __name__==\"__main__\":\n",
        "  test_run()"
      ],
      "metadata": {
        "colab": {
          "base_uri": "https://localhost:8080/"
        },
        "id": "MYwTc4dJZH6x",
        "outputId": "415674a8-b442-4c52-caa0-2d3f49be2f20"
      },
      "execution_count": 7,
      "outputs": [
        {
          "output_type": "stream",
          "name": "stdout",
          "text": [
            "[[1. 1. 1. 1.]\n",
            " [1. 1. 1. 1.]\n",
            " [1. 1. 1. 1.]\n",
            " [1. 1. 1. 1.]\n",
            " [1. 1. 1. 1.]]\n"
          ]
        }
      ]
    },
    {
      "cell_type": "markdown",
      "source": [
        "## 8.- Specify the datatype"
      ],
      "metadata": {
        "id": "gDpBkbJNaOSD"
      }
    },
    {
      "cell_type": "code",
      "source": [
        "import numpy as np\n",
        "\n",
        "def test_run():\n",
        "  # Array 1s\n",
        "  print(np.ones((5,4), dtype=np.int_))\n",
        "\n",
        "if __name__==\"__main__\":\n",
        "  test_run()"
      ],
      "metadata": {
        "colab": {
          "base_uri": "https://localhost:8080/"
        },
        "id": "87pwxBgKaNru",
        "outputId": "8349b0c6-8f0b-4405-897a-24a8e5a8df5d"
      },
      "execution_count": 8,
      "outputs": [
        {
          "output_type": "stream",
          "name": "stdout",
          "text": [
            "[[1 1 1 1]\n",
            " [1 1 1 1]\n",
            " [1 1 1 1]\n",
            " [1 1 1 1]\n",
            " [1 1 1 1]]\n"
          ]
        }
      ]
    },
    {
      "cell_type": "markdown",
      "source": [
        "## 9.- Generating random numbers"
      ],
      "metadata": {
        "id": "sKyuolepixvo"
      }
    },
    {
      "cell_type": "code",
      "source": [
        "import numpy as np\n",
        "\n",
        "def test_run():\n",
        "  # Array 1s\n",
        "  #print(np.random.rand(5, 4))\n",
        "  print(np.random.randint(10))\n",
        "  print(np.random.randint(0, 10))\n",
        "  print(np.random.randint(0, 10, size=5))\n",
        "  print(np.random.randint(0, 10, size=(2,3)))\n",
        "\n",
        "if __name__==\"__main__\":\n",
        "  test_run()"
      ],
      "metadata": {
        "colab": {
          "base_uri": "https://localhost:8080/"
        },
        "id": "PZzj9IuIi4xe",
        "outputId": "5fa034d6-58a5-46ab-c969-b5b74a1e1118"
      },
      "execution_count": 4,
      "outputs": [
        {
          "output_type": "stream",
          "name": "stdout",
          "text": [
            "5\n",
            "2\n",
            "[1 6 0 7 4]\n",
            "[[2 8 2]\n",
            " [1 0 7]]\n"
          ]
        }
      ]
    },
    {
      "cell_type": "markdown",
      "source": [
        "## 10.- Array atributes"
      ],
      "metadata": {
        "id": "WVK8RdHurkqY"
      }
    },
    {
      "cell_type": "code",
      "source": [
        "import numpy as np\n",
        "\n",
        "def test_run():\n",
        "  # Array 1s\n",
        "  a = np.random.random((5, 4))\n",
        "  print(a.size)\n",
        "  print(a.dtype)\n",
        "\n",
        "if __name__==\"__main__\":\n",
        "  test_run()"
      ],
      "metadata": {
        "colab": {
          "base_uri": "https://localhost:8080/"
        },
        "id": "4NRI71IjrpZp",
        "outputId": "4a7789db-dccc-4988-a3d4-1d72cf527639"
      },
      "execution_count": 5,
      "outputs": [
        {
          "output_type": "stream",
          "name": "stdout",
          "text": [
            "20\n",
            "float64\n"
          ]
        }
      ]
    },
    {
      "cell_type": "code",
      "source": [
        ""
      ],
      "metadata": {
        "id": "D2X0JcRXrpw3"
      },
      "execution_count": null,
      "outputs": []
    }
  ]
}