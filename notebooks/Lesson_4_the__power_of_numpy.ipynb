{
  "nbformat": 4,
  "nbformat_minor": 0,
  "metadata": {
    "colab": {
      "name": "Lesson_4_the _power_of_numpy.ipynb",
      "provenance": []
    },
    "kernelspec": {
      "name": "python3",
      "display_name": "Python 3"
    },
    "language_info": {
      "name": "python"
    }
  },
  "cells": [
    {
      "cell_type": "markdown",
      "source": [
        "## 6.- Creating NumPy arrays"
      ],
      "metadata": {
        "id": "1_vaoppXVE9c"
      }
    },
    {
      "cell_type": "code",
      "execution_count": null,
      "metadata": {
        "colab": {
          "base_uri": "https://localhost:8080/"
        },
        "id": "q4TyK0kUVDyt",
        "outputId": "b6b6f10e-1bab-44c4-e416-a6801ae2be34"
      },
      "outputs": [
        {
          "output_type": "stream",
          "name": "stdout",
          "text": [
            "[[2 3 4]\n",
            " [5 6 7]]\n"
          ]
        }
      ],
      "source": [
        "import numpy as np\n",
        "\n",
        "def test_run():\n",
        "  # list to 1D array\n",
        "  print(np.array([(2,3,4), (5,6,7)]))\n",
        "\n",
        "if __name__==\"__main__\":\n",
        "  test_run()"
      ]
    },
    {
      "cell_type": "markdown",
      "source": [
        "## 7.- Arrays with initial values"
      ],
      "metadata": {
        "id": "9_gwkGuTZCRG"
      }
    },
    {
      "cell_type": "code",
      "source": [
        "import numpy as np\n",
        "\n",
        "def test_run():\n",
        "  # Empty array\n",
        "  #print(np.empty(5))\n",
        "  #print(np.empty((5,4,3)))\n",
        "  print(np.ones((5,4)))\n",
        "\n",
        "if __name__==\"__main__\":\n",
        "  test_run()"
      ],
      "metadata": {
        "colab": {
          "base_uri": "https://localhost:8080/"
        },
        "id": "MYwTc4dJZH6x",
        "outputId": "415674a8-b442-4c52-caa0-2d3f49be2f20"
      },
      "execution_count": null,
      "outputs": [
        {
          "output_type": "stream",
          "name": "stdout",
          "text": [
            "[[1. 1. 1. 1.]\n",
            " [1. 1. 1. 1.]\n",
            " [1. 1. 1. 1.]\n",
            " [1. 1. 1. 1.]\n",
            " [1. 1. 1. 1.]]\n"
          ]
        }
      ]
    },
    {
      "cell_type": "markdown",
      "source": [
        "## 8.- Specify the datatype"
      ],
      "metadata": {
        "id": "gDpBkbJNaOSD"
      }
    },
    {
      "cell_type": "code",
      "source": [
        "import numpy as np\n",
        "\n",
        "def test_run():\n",
        "  # Array 1s\n",
        "  print(np.ones((5,4), dtype=np.int_))\n",
        "\n",
        "if __name__==\"__main__\":\n",
        "  test_run()"
      ],
      "metadata": {
        "colab": {
          "base_uri": "https://localhost:8080/"
        },
        "id": "87pwxBgKaNru",
        "outputId": "8349b0c6-8f0b-4405-897a-24a8e5a8df5d"
      },
      "execution_count": null,
      "outputs": [
        {
          "output_type": "stream",
          "name": "stdout",
          "text": [
            "[[1 1 1 1]\n",
            " [1 1 1 1]\n",
            " [1 1 1 1]\n",
            " [1 1 1 1]\n",
            " [1 1 1 1]]\n"
          ]
        }
      ]
    },
    {
      "cell_type": "markdown",
      "source": [
        "## 9.- Generating random numbers"
      ],
      "metadata": {
        "id": "sKyuolepixvo"
      }
    },
    {
      "cell_type": "code",
      "source": [
        "import numpy as np\n",
        "\n",
        "def test_run():\n",
        "  # Array 1s\n",
        "  #print(np.random.rand(5, 4))\n",
        "  print(np.random.randint(10))\n",
        "  print(np.random.randint(0, 10))\n",
        "  print(np.random.randint(0, 10, size=5))\n",
        "  print(np.random.randint(0, 10, size=(2,3)))\n",
        "\n",
        "if __name__==\"__main__\":\n",
        "  test_run()"
      ],
      "metadata": {
        "colab": {
          "base_uri": "https://localhost:8080/"
        },
        "id": "PZzj9IuIi4xe",
        "outputId": "5fa034d6-58a5-46ab-c969-b5b74a1e1118"
      },
      "execution_count": null,
      "outputs": [
        {
          "output_type": "stream",
          "name": "stdout",
          "text": [
            "5\n",
            "2\n",
            "[1 6 0 7 4]\n",
            "[[2 8 2]\n",
            " [1 0 7]]\n"
          ]
        }
      ]
    },
    {
      "cell_type": "markdown",
      "source": [
        "## 10.- Array atributes"
      ],
      "metadata": {
        "id": "WVK8RdHurkqY"
      }
    },
    {
      "cell_type": "code",
      "source": [
        "import numpy as np\n",
        "\n",
        "def test_run():\n",
        "  # Array 1s\n",
        "  a = np.random.random((5, 4))\n",
        "  print(a.size)\n",
        "  print(a.dtype)\n",
        "\n",
        "if __name__==\"__main__\":\n",
        "  test_run()"
      ],
      "metadata": {
        "colab": {
          "base_uri": "https://localhost:8080/"
        },
        "id": "4NRI71IjrpZp",
        "outputId": "4a7789db-dccc-4988-a3d4-1d72cf527639"
      },
      "execution_count": null,
      "outputs": [
        {
          "output_type": "stream",
          "name": "stdout",
          "text": [
            "20\n",
            "float64\n"
          ]
        }
      ]
    },
    {
      "cell_type": "markdown",
      "source": [
        "## 11.- Operations on ndarrays"
      ],
      "metadata": {
        "id": "4p83hSiemluE"
      }
    },
    {
      "cell_type": "code",
      "source": [
        "import numpy as np\n",
        "\n",
        "def test_run():\n",
        "  \n",
        "  np.random.seed(693)  # seed the random number generator \n",
        "  a = np.random.randint(0, 10, size=(5, 4))  # 5x4 random integers in [0, 10] \n",
        "  print(\"Array:\\n\", a)\n",
        "\n",
        "  # Sum of all elements\n",
        "  # print(\"Sum of all elements:\", a.sum())\n",
        "\n",
        "  # Statistics: min, max, mean (across rows, cols, and overall)\n",
        "  print(\"Minimum of each column:\\n\", a.min(axis=0))\n",
        "  print(\"Maximum of each row:\\n\", a.max(axis=1))\n",
        "  print(\"Mean of each column:\\n\", a.mean())\n",
        "\n",
        "if __name__==\"__main__\":\n",
        "  test_run()"
      ],
      "metadata": {
        "id": "D2X0JcRXrpw3",
        "colab": {
          "base_uri": "https://localhost:8080/"
        },
        "outputId": "94b7ed25-2759-4c7b-f809-882d7dc9b748"
      },
      "execution_count": null,
      "outputs": [
        {
          "output_type": "stream",
          "name": "stdout",
          "text": [
            "Array:\n",
            " [[2 0 5 1]\n",
            " [1 3 4 4]\n",
            " [9 2 9 1]\n",
            " [9 3 7 5]\n",
            " [4 7 0 3]]\n",
            "Minimum of each column:\n",
            " [1 0 0 1]\n",
            "Maximum of each row:\n",
            " [5 4 9 9 7]\n",
            "Mean of each column:\n",
            " 3.95\n"
          ]
        }
      ]
    },
    {
      "cell_type": "markdown",
      "source": [
        "## 12.- Locate maximum value"
      ],
      "metadata": {
        "id": "Eh4X-yazp4gr"
      }
    },
    {
      "cell_type": "code",
      "source": [
        "\"\"\"Locate maximum value.\"\"\"\n",
        "\n",
        "import numpy as np\n",
        "\n",
        "\n",
        "def get_max_index(a):\n",
        "    \"\"\"Return the index of the maximum value in given 1D array.\"\"\"\n",
        "    # TODO: Your code here\n",
        "    return (np.where(a == a.max()))[0][0]\n",
        "\n",
        "\n",
        "def test_run():\n",
        "    a = np.array([9, 6, 2, 3, 12, 14, 7, 10], dtype=np.int32)  # 32-bit integer array\n",
        "    print(\"Array:\", a)\n",
        "    \n",
        "    # Find the maximum and its index in array\n",
        "    print(\"Maximum value:\", a.max())\n",
        "    print(\"Index of max.:\", get_max_index(a))\n",
        "\n",
        "\n",
        "if __name__ == \"__main__\":\n",
        "    test_run()\n"
      ],
      "metadata": {
        "colab": {
          "base_uri": "https://localhost:8080/"
        },
        "id": "oOxN21enp41b",
        "outputId": "40a0903c-2b6c-47ea-f2c8-e95d29c9352f"
      },
      "execution_count": null,
      "outputs": [
        {
          "output_type": "stream",
          "name": "stdout",
          "text": [
            "Array: [ 9  6  2  3 12 14  7 10]\n",
            "Maximum value: 14\n",
            "Index of max.: 5\n"
          ]
        }
      ]
    },
    {
      "cell_type": "markdown",
      "source": [
        "## 13.- Timing python operations"
      ],
      "metadata": {
        "id": "18x3pHfjviDW"
      }
    },
    {
      "cell_type": "code",
      "source": [
        "\"\"\"Using time function.\"\"\"\n",
        "\n",
        "import numpy as np\n",
        "from time import time\n",
        "\n",
        "def how_long(func, *args):\n",
        "  \"\"\"Execute function with given arguments, and measure execution time.\"\"\"\n",
        "  t0 = time()\n",
        "  result = func(*args)\n",
        "  t1 = time()\n",
        "  return result, t1 - t0\n",
        "\n",
        "\n",
        "def manual_mean(arr):\n",
        "  \"\"\"Compute mean (average) of all elements in the given 2D array.\"\"\"\n",
        "  sum = 0\n",
        "  for i in range(0, arr.shape[0]):\n",
        "    for j in range(0, arr.shape[1]):\n",
        "      sum = sum + arr[i, j]\n",
        "  return sum / arr.size\n",
        "\n",
        "def numpy_mean(arr):\n",
        "  \"\"\"Compute mean (average) using NumPy.\"\"\"\n",
        "  return arr.mean()\n",
        "\n",
        "def test_run():\n",
        "    \"\"\"Function called by Test Run.\"\"\"\n",
        "    nd1 = np.random.random((1000, 10000)) # Use a sufficiently large array\n",
        "\n",
        "    # Time the two fuctions, retrieving results and execution times\n",
        "    res_manual, t_manual = how_long(manual_mean, nd1)\n",
        "    res_numpy, t_numpy = how_long(numpy_mean, nd1)\n",
        "    print(\"Manual: {:.6f} ({:.3f} secs.) vs. Numpy: {:.6f} ({:.3f} secs.)\".format(res_manual, t_manual, res_numpy, t_numpy))\n",
        "\n",
        "    # Make sure both give us the same answer (Upto some precision)\n",
        "    assert abs(res_manual - res_numpy) <= 10e-6, \"Results aren't equal!\"\n",
        "\n",
        "    # Compute speedup\n",
        "    speedup = t_manual / t_numpy\n",
        "    print(\"NumPy mean is\", speedup, \"times faster than manual for loops.\")\n",
        "\n",
        "\n",
        "if __name__ == \"__main__\":\n",
        "    test_run()\n"
      ],
      "metadata": {
        "colab": {
          "base_uri": "https://localhost:8080/"
        },
        "id": "fi9s_90_viXF",
        "outputId": "39a8327a-0d3f-4fb6-b61f-bdafd1111721"
      },
      "execution_count": null,
      "outputs": [
        {
          "output_type": "stream",
          "name": "stdout",
          "text": [
            "Manual: 0.500042 (2.192 secs.) vs. Numpy: 0.500042 (0.007 secs.)\n",
            "NumPy mean is 298.53014316787323 times faster than manual for loops.\n"
          ]
        }
      ]
    },
    {
      "cell_type": "markdown",
      "source": [
        "## 15.- Accessing array elements"
      ],
      "metadata": {
        "id": "PsMAPzEy8mKS"
      }
    },
    {
      "cell_type": "code",
      "source": [
        "import numpy as np\n",
        "\n",
        "def test_run():\n",
        "  \"\"\"Accessing array elements\"\"\"\n",
        "\n",
        "  a = np.random.rand(5, 4)\n",
        "  print(\"Array:\\n\", a)\n",
        "\n",
        "  # Accesing element at position 3, 2\n",
        "  element = a[3, 2]\n",
        "  print(\"\\nElement:\\n\", element)\n",
        "\n",
        "  # Elements in defined range\n",
        "  print(\"\\nRange of elements\\n\", a[0, 1:3])\n",
        "\n",
        "  print(\"\\nSelect 0, 2 columns in every row\\n\", a[:, 0:3:2])\n",
        "\n",
        "\n",
        "if __name__ == \"__main__\":\n",
        "  test_run()"
      ],
      "metadata": {
        "colab": {
          "base_uri": "https://localhost:8080/"
        },
        "id": "Z2KiqAuO8m1r",
        "outputId": "11395d40-95cd-437a-c1a7-f7cc6f5335a1"
      },
      "execution_count": 3,
      "outputs": [
        {
          "output_type": "stream",
          "name": "stdout",
          "text": [
            "Array:\n",
            " [[0.36198112 0.63510595 0.85258348 0.22626681]\n",
            " [0.64857751 0.49531023 0.43719975 0.84038224]\n",
            " [0.16204284 0.47775164 0.80543268 0.69033607]\n",
            " [0.56128447 0.90073824 0.13074922 0.77265745]\n",
            " [0.58753115 0.62369619 0.50648834 0.77301163]]\n",
            "\n",
            "Element:\n",
            " 0.13074921930976158\n",
            "\n",
            "Range of elements\n",
            " [0.63510595 0.85258348]\n",
            "\n",
            "Select 0, 2 columns in every row\n",
            " [[0.36198112 0.85258348]\n",
            " [0.64857751 0.43719975]\n",
            " [0.16204284 0.80543268]\n",
            " [0.56128447 0.13074922]\n",
            " [0.58753115 0.50648834]]\n"
          ]
        }
      ]
    },
    {
      "cell_type": "markdown",
      "source": [
        "## 16.-Modifiying array elements"
      ],
      "metadata": {
        "id": "UJo2f5jJ_5H-"
      }
    },
    {
      "cell_type": "code",
      "source": [
        "import numpy as np\n",
        "\n",
        "def test_run():\n",
        "  \"\"\"Accessing array elements\"\"\"\n",
        "\n",
        "  a = np.random.rand(5, 4)\n",
        "  print(\"Array:\\n\", a)\n",
        "\n",
        "  # Assingning a value to a particular location\n",
        "  a[0,0] = 1\n",
        "  print(\"\\nSingle value changed\\n\",a)\n",
        "\n",
        "  # Assingning a value to an entire row\n",
        "  a[0,:] = 2\n",
        "  print(\"\\nEntire row changed\\n\",a)\n",
        "\n",
        "  # Assingning a list a column in an array\n",
        "  a[:,3] = [1, 2, 3, 4, 5]\n",
        "  print(\"\\nEntire row changed\\n\",a)\n",
        "\n",
        "if __name__ == \"__main__\":\n",
        "  test_run()"
      ],
      "metadata": {
        "colab": {
          "base_uri": "https://localhost:8080/"
        },
        "id": "axnTaHtZAO1G",
        "outputId": "14119760-204c-421b-a5a8-463f4267bd37"
      },
      "execution_count": 5,
      "outputs": [
        {
          "output_type": "stream",
          "name": "stdout",
          "text": [
            "Array:\n",
            " [[0.1446725  0.91136213 0.4202858  0.0914508 ]\n",
            " [0.25632288 0.60735912 0.83134689 0.44763118]\n",
            " [0.19181139 0.03368897 0.24926656 0.70121421]\n",
            " [0.29864255 0.03262925 0.94542109 0.11536893]\n",
            " [0.83587524 0.20914719 0.33298469 0.46639359]]\n",
            "\n",
            "Single value changed\n",
            " [[1.         0.91136213 0.4202858  0.0914508 ]\n",
            " [0.25632288 0.60735912 0.83134689 0.44763118]\n",
            " [0.19181139 0.03368897 0.24926656 0.70121421]\n",
            " [0.29864255 0.03262925 0.94542109 0.11536893]\n",
            " [0.83587524 0.20914719 0.33298469 0.46639359]]\n",
            "\n",
            "Entire row changed\n",
            " [[2.         2.         2.         2.        ]\n",
            " [0.25632288 0.60735912 0.83134689 0.44763118]\n",
            " [0.19181139 0.03368897 0.24926656 0.70121421]\n",
            " [0.29864255 0.03262925 0.94542109 0.11536893]\n",
            " [0.83587524 0.20914719 0.33298469 0.46639359]]\n",
            "\n",
            "Entire row changed\n",
            " [[2.         2.         2.         1.        ]\n",
            " [0.25632288 0.60735912 0.83134689 2.        ]\n",
            " [0.19181139 0.03368897 0.24926656 3.        ]\n",
            " [0.29864255 0.03262925 0.94542109 4.        ]\n",
            " [0.83587524 0.20914719 0.33298469 5.        ]]\n"
          ]
        }
      ]
    }
  ]
}