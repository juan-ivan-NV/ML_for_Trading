{
  "nbformat": 4,
  "nbformat_minor": 0,
  "metadata": {
    "colab": {
      "name": "Lesson_4_the _power_of_numpy.ipynb",
      "provenance": []
    },
    "kernelspec": {
      "name": "python3",
      "display_name": "Python 3"
    },
    "language_info": {
      "name": "python"
    }
  },
  "cells": [
    {
      "cell_type": "markdown",
      "source": [
        "## 6.- Creating NumPy arrays"
      ],
      "metadata": {
        "id": "1_vaoppXVE9c"
      }
    },
    {
      "cell_type": "code",
      "execution_count": null,
      "metadata": {
        "colab": {
          "base_uri": "https://localhost:8080/"
        },
        "id": "q4TyK0kUVDyt",
        "outputId": "b6b6f10e-1bab-44c4-e416-a6801ae2be34"
      },
      "outputs": [
        {
          "output_type": "stream",
          "name": "stdout",
          "text": [
            "[[2 3 4]\n",
            " [5 6 7]]\n"
          ]
        }
      ],
      "source": [
        "import numpy as np\n",
        "\n",
        "def test_run():\n",
        "  # list to 1D array\n",
        "  print(np.array([(2,3,4), (5,6,7)]))\n",
        "\n",
        "if __name__==\"__main__\":\n",
        "  test_run()"
      ]
    },
    {
      "cell_type": "markdown",
      "source": [
        "## 7.- Arrays with initial values"
      ],
      "metadata": {
        "id": "9_gwkGuTZCRG"
      }
    },
    {
      "cell_type": "code",
      "source": [
        "import numpy as np\n",
        "\n",
        "def test_run():\n",
        "  # Empty array\n",
        "  #print(np.empty(5))\n",
        "  #print(np.empty((5,4,3)))\n",
        "  print(np.ones((5,4)))\n",
        "\n",
        "if __name__==\"__main__\":\n",
        "  test_run()"
      ],
      "metadata": {
        "colab": {
          "base_uri": "https://localhost:8080/"
        },
        "id": "MYwTc4dJZH6x",
        "outputId": "415674a8-b442-4c52-caa0-2d3f49be2f20"
      },
      "execution_count": null,
      "outputs": [
        {
          "output_type": "stream",
          "name": "stdout",
          "text": [
            "[[1. 1. 1. 1.]\n",
            " [1. 1. 1. 1.]\n",
            " [1. 1. 1. 1.]\n",
            " [1. 1. 1. 1.]\n",
            " [1. 1. 1. 1.]]\n"
          ]
        }
      ]
    },
    {
      "cell_type": "markdown",
      "source": [
        "## 8.- Specify the datatype"
      ],
      "metadata": {
        "id": "gDpBkbJNaOSD"
      }
    },
    {
      "cell_type": "code",
      "source": [
        "import numpy as np\n",
        "\n",
        "def test_run():\n",
        "  # Array 1s\n",
        "  print(np.ones((5,4), dtype=np.int_))\n",
        "\n",
        "if __name__==\"__main__\":\n",
        "  test_run()"
      ],
      "metadata": {
        "colab": {
          "base_uri": "https://localhost:8080/"
        },
        "id": "87pwxBgKaNru",
        "outputId": "8349b0c6-8f0b-4405-897a-24a8e5a8df5d"
      },
      "execution_count": null,
      "outputs": [
        {
          "output_type": "stream",
          "name": "stdout",
          "text": [
            "[[1 1 1 1]\n",
            " [1 1 1 1]\n",
            " [1 1 1 1]\n",
            " [1 1 1 1]\n",
            " [1 1 1 1]]\n"
          ]
        }
      ]
    },
    {
      "cell_type": "markdown",
      "source": [
        "## 9.- Generating random numbers"
      ],
      "metadata": {
        "id": "sKyuolepixvo"
      }
    },
    {
      "cell_type": "code",
      "source": [
        "import numpy as np\n",
        "\n",
        "def test_run():\n",
        "  # Array 1s\n",
        "  #print(np.random.rand(5, 4))\n",
        "  print(np.random.randint(10))\n",
        "  print(np.random.randint(0, 10))\n",
        "  print(np.random.randint(0, 10, size=5))\n",
        "  print(np.random.randint(0, 10, size=(2,3)))\n",
        "\n",
        "if __name__==\"__main__\":\n",
        "  test_run()"
      ],
      "metadata": {
        "colab": {
          "base_uri": "https://localhost:8080/"
        },
        "id": "PZzj9IuIi4xe",
        "outputId": "5fa034d6-58a5-46ab-c969-b5b74a1e1118"
      },
      "execution_count": null,
      "outputs": [
        {
          "output_type": "stream",
          "name": "stdout",
          "text": [
            "5\n",
            "2\n",
            "[1 6 0 7 4]\n",
            "[[2 8 2]\n",
            " [1 0 7]]\n"
          ]
        }
      ]
    },
    {
      "cell_type": "markdown",
      "source": [
        "## 10.- Array atributes"
      ],
      "metadata": {
        "id": "WVK8RdHurkqY"
      }
    },
    {
      "cell_type": "code",
      "source": [
        "import numpy as np\n",
        "\n",
        "def test_run():\n",
        "  # Array 1s\n",
        "  a = np.random.random((5, 4))\n",
        "  print(a.size)\n",
        "  print(a.dtype)\n",
        "\n",
        "if __name__==\"__main__\":\n",
        "  test_run()"
      ],
      "metadata": {
        "colab": {
          "base_uri": "https://localhost:8080/"
        },
        "id": "4NRI71IjrpZp",
        "outputId": "4a7789db-dccc-4988-a3d4-1d72cf527639"
      },
      "execution_count": null,
      "outputs": [
        {
          "output_type": "stream",
          "name": "stdout",
          "text": [
            "20\n",
            "float64\n"
          ]
        }
      ]
    },
    {
      "cell_type": "markdown",
      "source": [
        "## 11.- Operations on ndarrays"
      ],
      "metadata": {
        "id": "4p83hSiemluE"
      }
    },
    {
      "cell_type": "code",
      "source": [
        "import numpy as np\n",
        "\n",
        "def test_run():\n",
        "  \n",
        "  np.random.seed(693)  # seed the random number generator \n",
        "  a = np.random.randint(0, 10, size=(5, 4))  # 5x4 random integers in [0, 10] \n",
        "  print(\"Array:\\n\", a)\n",
        "\n",
        "  # Sum of all elements\n",
        "  # print(\"Sum of all elements:\", a.sum())\n",
        "\n",
        "  # Statistics: min, max, mean (across rows, cols, and overall)\n",
        "  print(\"Minimum of each column:\\n\", a.min(axis=0))\n",
        "  print(\"Maximum of each row:\\n\", a.max(axis=1))\n",
        "  print(\"Mean of each column:\\n\", a.mean())\n",
        "\n",
        "if __name__==\"__main__\":\n",
        "  test_run()"
      ],
      "metadata": {
        "id": "D2X0JcRXrpw3",
        "colab": {
          "base_uri": "https://localhost:8080/"
        },
        "outputId": "94b7ed25-2759-4c7b-f809-882d7dc9b748"
      },
      "execution_count": 2,
      "outputs": [
        {
          "output_type": "stream",
          "name": "stdout",
          "text": [
            "Array:\n",
            " [[2 0 5 1]\n",
            " [1 3 4 4]\n",
            " [9 2 9 1]\n",
            " [9 3 7 5]\n",
            " [4 7 0 3]]\n",
            "Minimum of each column:\n",
            " [1 0 0 1]\n",
            "Maximum of each row:\n",
            " [5 4 9 9 7]\n",
            "Mean of each column:\n",
            " 3.95\n"
          ]
        }
      ]
    },
    {
      "cell_type": "markdown",
      "source": [
        "## 12.- Locate maximum value"
      ],
      "metadata": {
        "id": "Eh4X-yazp4gr"
      }
    },
    {
      "cell_type": "code",
      "source": [
        "\"\"\"Locate maximum value.\"\"\"\n",
        "\n",
        "import numpy as np\n",
        "\n",
        "\n",
        "def get_max_index(a):\n",
        "    \"\"\"Return the index of the maximum value in given 1D array.\"\"\"\n",
        "    # TODO: Your code here\n",
        "    return (np.where(a == a.max()))[0][0]\n",
        "\n",
        "\n",
        "def test_run():\n",
        "    a = np.array([9, 6, 2, 3, 12, 14, 7, 10], dtype=np.int32)  # 32-bit integer array\n",
        "    print(\"Array:\", a)\n",
        "    \n",
        "    # Find the maximum and its index in array\n",
        "    print(\"Maximum value:\", a.max())\n",
        "    print(\"Index of max.:\", get_max_index(a))\n",
        "\n",
        "\n",
        "if __name__ == \"__main__\":\n",
        "    test_run()\n"
      ],
      "metadata": {
        "colab": {
          "base_uri": "https://localhost:8080/"
        },
        "id": "oOxN21enp41b",
        "outputId": "40a0903c-2b6c-47ea-f2c8-e95d29c9352f"
      },
      "execution_count": 3,
      "outputs": [
        {
          "output_type": "stream",
          "name": "stdout",
          "text": [
            "Array: [ 9  6  2  3 12 14  7 10]\n",
            "Maximum value: 14\n",
            "Index of max.: 5\n"
          ]
        }
      ]
    }
  ]
}