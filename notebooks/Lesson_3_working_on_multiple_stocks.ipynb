{
  "nbformat": 4,
  "nbformat_minor": 0,
  "metadata": {
    "colab": {
      "name": "Lesson_3_working_on_multiple_stocks.ipynb",
      "provenance": []
    },
    "kernelspec": {
      "name": "python3",
      "display_name": "Python 3"
    },
    "language_info": {
      "name": "python"
    }
  },
  "cells": [
    {
      "cell_type": "markdown",
      "source": [
        "## 9.- Join SPY data\n",
        "\n",
        "Documentation <a href = \"https://pandas.pydata.org/pandas-docs/stable/reference/api/pandas.DataFrame.join.html\">pandas.DataFrame.join</a>"
      ],
      "metadata": {
        "id": "-6pzHv2wDcl6"
      }
    },
    {
      "cell_type": "code",
      "execution_count": 5,
      "metadata": {
        "colab": {
          "base_uri": "https://localhost:8080/"
        },
        "id": "n_cA4P6MDBC5",
        "outputId": "73f2d1a1-8580-474c-85d8-995cf966f4b7"
      },
      "outputs": [
        {
          "output_type": "stream",
          "name": "stdout",
          "text": [
            "            Adj Close\n",
            "2010-01-22     104.34\n",
            "2010-01-25     104.87\n",
            "2010-01-26     104.43\n"
          ]
        }
      ],
      "source": [
        "import pandas as pd\n",
        "def test_run():\n",
        "  #Define date range\n",
        "  start_date=\"2010-01-22\"\n",
        "  end_date=\"2010-01-26\"\n",
        "  dates=pd.date_range(start_date, end_date)\n",
        "\n",
        "  #Create an empty dataframe\n",
        "  df1=pd.DataFrame(index=dates)\n",
        "\n",
        "  #Read SPY data into temporary dataframe\n",
        "  dfSPY = pd.read_csv(\"SPY.csv\", index_col = \"Date\", parse_dates=True,\n",
        "                     usecols=['Date','Adj Close'],\n",
        "                     na_values=['nan'])\n",
        "\n",
        "  #Join the two dataframes using DataFrame,join()\n",
        "  df1=df1.join(dfSPY)\n",
        "\n",
        "  # Drop NaN Values\n",
        "  df1 = df1.dropna()\n",
        "  print(df1)\n",
        "\n",
        "if __name__ == \"__main__\":\n",
        "  test_run()"
      ]
    },
    {
      "cell_type": "markdown",
      "source": [
        "## 10.- Read in more stocks"
      ],
      "metadata": {
        "id": "qMg3PiEG6d8K"
      }
    },
    {
      "cell_type": "code",
      "source": [
        "import pandas as pd\n",
        "def test_run():\n",
        "  #Define date range\n",
        "  start_date=\"2010-01-22\"\n",
        "  end_date=\"2010-01-26\"\n",
        "  dates=pd.date_range(start_date, end_date)\n",
        "\n",
        "  #Create an empty dataframe\n",
        "  df1=pd.DataFrame(index=dates)\n",
        "\n",
        "  #Read SPY data into temporary dataframe\n",
        "  dfSPY = pd.read_csv(\"SPY.csv\", index_col = \"Date\", parse_dates=True,\n",
        "                     usecols=['Date','Adj Close'],\n",
        "                     na_values=['nan'])\n",
        "  \n",
        "  #Rename 'Adj Close' column to 'SPY' to prevent clash\n",
        "  dfSPY = dfSPY.rename(columns={'Adj Close':'SPY'})\n",
        "\n",
        "  #Join the two dataframes using DataFrame.join(), with how='inner'\n",
        "  df1 = df1.join(dfSPY, how='inner')\n",
        "\n",
        "  #Read in more stocks\n",
        "  symbols = ['GOOG', 'IBM', 'GLD']\n",
        "  for symbol in symbols:\n",
        "    df_temp=pd.read_csv(\"{}.csv\".format(symbol), index_col='Date',\n",
        "                        parse_dates=True, usecols=['Date', 'Adj Close'],\n",
        "                        na_values=['nan'])\n",
        "    # rename to prevent clash\n",
        "    df_temp = df_temp.rename(columns={'Adj Close':symbol})\n",
        "    df1=df1.join(df_temp)\n",
        "\n",
        "  # Drop NaN Values\n",
        "  df1 = df1.dropna()\n",
        "  print(df1)\n",
        "\n",
        "if __name__ == \"__main__\":\n",
        "  test_run()"
      ],
      "metadata": {
        "colab": {
          "base_uri": "https://localhost:8080/"
        },
        "id": "c8AbbNKY6crl",
        "outputId": "0e2357fc-5721-4275-c046-98dc5897c200"
      },
      "execution_count": 9,
      "outputs": [
        {
          "output_type": "stream",
          "name": "stdout",
          "text": [
            "               SPY    GOOG     IBM     GLD\n",
            "2010-01-22  104.34  550.01  119.61  107.17\n",
            "2010-01-25  104.87  540.00  120.20  107.48\n",
            "2010-01-26  104.43  542.42  119.85  107.56\n"
          ]
        }
      ]
    },
    {
      "cell_type": "markdown",
      "source": [
        "## 12.- Utility functions for reading data"
      ],
      "metadata": {
        "id": "HpvykW4lHGCH"
      }
    },
    {
      "cell_type": "code",
      "source": [
        "\"\"\"Utility functions\"\"\"\n",
        "\n",
        "import os\n",
        "import pandas as pd\n",
        "\n",
        "def symbol_to_path(symbol, base_dir=\"data\"):\n",
        "    \"\"\"Return CSV file path given ticker symbol.\"\"\"\n",
        "    return os.path.join(base_dir, \"{}.csv\".format(str(symbol)))\n",
        "\n",
        "\n",
        "def get_data(symbols, dates):\n",
        "    \"\"\"Read stock data (adjusted close) for given symbols from CSV files.\"\"\"\n",
        "    df = pd.DataFrame(index=dates)\n",
        "    if 'SPY' not in symbols:  # add SPY for reference, if absent\n",
        "        symbols.insert(0, 'SPY')\n",
        "\n",
        "    for symbol in symbols:\n",
        "        # TODO: Read and join data for each symbol\n",
        "        df_temp=pd.read_csv(symbol_to_path(symbol, base_dir=\"data\"), index_col='Date',\n",
        "                        parse_dates=True, usecols=['Date', 'Adj Close'],\n",
        "                        na_values=['nan'])\n",
        "                        \n",
        "        df_temp = df_temp.rename(columns={'Adj Close':symbol})\n",
        "        df=df.join(df_temp)\n",
        "        df = df.dropna()\n",
        "    return df\n",
        "\n",
        "\n",
        "def test_run():\n",
        "    # Define a date range\n",
        "    dates = pd.date_range('2010-01-22', '2010-01-26')\n",
        "\n",
        "    # Choose stock symbols to read\n",
        "    symbols = ['GOOG', 'IBM', 'GLD']\n",
        "    \n",
        "    # Get stock data\n",
        "    df = get_data(symbols, dates)\n",
        "    print df\n",
        "\n",
        "\n",
        "if __name__ == \"__main__\":\n",
        "    test_run()"
      ],
      "metadata": {
        "id": "qvVy1kH3HOwP"
      },
      "execution_count": null,
      "outputs": []
    },
    {
      "cell_type": "markdown",
      "source": [
        "## 13.- Obtaining a <a href = \"https://pandas.pydata.org/pandas-docs/stable/user_guide/indexing.html\">slice of data</a>\n"
      ],
      "metadata": {
        "id": "-D6t4tbVHlVq"
      }
    },
    {
      "cell_type": "code",
      "source": [
        ""
      ],
      "metadata": {
        "id": "SbEoogeyHPCp"
      },
      "execution_count": null,
      "outputs": []
    },
    {
      "cell_type": "code",
      "source": [
        ""
      ],
      "metadata": {
        "id": "E8H_PY27HPGc"
      },
      "execution_count": null,
      "outputs": []
    },
    {
      "cell_type": "code",
      "source": [
        ""
      ],
      "metadata": {
        "id": "kbaWQ5v4HPK9"
      },
      "execution_count": null,
      "outputs": []
    },
    {
      "cell_type": "code",
      "source": [
        ""
      ],
      "metadata": {
        "id": "zX0tx-JxHPNF"
      },
      "execution_count": null,
      "outputs": []
    }
  ]
}